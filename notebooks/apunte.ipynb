{
 "cells": [
  {
   "cell_type": "markdown",
   "metadata": {},
   "source": [
    "## Pasos a seguir.\n",
    "\n",
    "1. Preprocesado por notebooks que estudien cada csv por separado y prepararlos para la ingesta en BBDD\n",
    "\n",
    "2. Preprocesado en el notebook final, ver si los valores son coherentes antes de meterlos a BBDD. IDs... etc\n",
    "\n",
    "3. Modelar en el DRAW y crear la BBDD.\n",
    "\n",
    "4. Juntar todo el preprocesado en un notebook\n",
    "\n",
    "5. Tratar las relaciones entre tablas desde SQL y crear una vista para generar un archivo csv único con todo lo ncesario para los modelos\n"
   ]
  },
  {
   "cell_type": "markdown",
   "metadata": {
    "vscode": {
     "languageId": "plaintext"
    }
   },
   "source": [
    "Tocará en el notebook único, juntar todo y ver los campos que tienen IDs que se van a relacionar\n",
    "con otros csv(otras tablas) si todos los id coinciden y son coherentes entre tablas.\n"
   ]
  },
  {
   "cell_type": "markdown",
   "metadata": {},
   "source": [
    "Los nulos de oil ya veremos que hacemos con ellos más adelante."
   ]
  }
 ],
 "metadata": {
  "language_info": {
   "name": "python"
  }
 },
 "nbformat": 4,
 "nbformat_minor": 2
}
