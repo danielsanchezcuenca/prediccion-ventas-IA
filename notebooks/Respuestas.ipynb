{
 "cells": [
  {
   "cell_type": "markdown",
   "metadata": {},
   "source": [
    "## RESPUESTAS"
   ]
  },
  {
   "cell_type": "markdown",
   "metadata": {},
   "source": [
    "#### ¿Cuál será la previsión de transacciones para una tienda específica en los próximos 30 días?\n",
    "#### (Predicción + gráfico de tendencia)."
   ]
  },
  {
   "cell_type": "code",
   "execution_count": 14,
   "metadata": {},
   "outputs": [
    {
     "name": "stdout",
     "output_type": "stream",
     "text": [
      "📦 Stock recomendado promedio para el mes: 836 unidades\n"
     ]
    }
   ],
   "source": [
    "import pandas as pd\n",
    "import numpy as np\n",
    "import joblib\n",
    "from datetime import timedelta\n",
    "import matplotlib.pyplot as plt\n",
    "import os\n",
    "\n",
    "import os\n",
    "import joblib\n",
    "\n",
    "# Ruta dinámica al modelo\n",
    "base_dir = os.path.abspath(os.path.join(os.getcwd(),\"..\"))\n",
    "modelo_path = os.path.join(base_dir,\"models\",\"random_forest_model.pkl\")\n",
    "\n",
    "cargado = joblib.load(modelo_path)\n",
    "modelo = cargado['model']\n",
    "encoders = cargado['encoders']\n",
    "\n",
    "# 2️⃣ Simular input: tienda específica + 30 días futuros\n",
    "store_nbr = 22  # Cambia esto por la tienda que desees\n",
    "hoy = pd.to_datetime('2025-03-23')  # Supón que hoy es la fecha de predicción\n",
    "futuras_fechas = pd.date_range(start=hoy, periods=30)\n",
    "lugar = \"Pichincha - Quito\"\n",
    "formato = \"D\"\n",
    "cluster = 13\n",
    "locale = None\n",
    "# 3️⃣ Simular las features mínimas necesarias (ajusta según tus features reales)\n",
    "\n",
    "df_pred = pd.DataFrame({\n",
    "    'fecha': futuras_fechas,\n",
    "    'lugar': lugar ,\n",
    "    'idTienda': store_nbr,\n",
    "    'formatoTienda': formato ,\n",
    "    'cluster' : cluster,\n",
    "    'precioGlobal': np.random.uniform(30, 100, size=30),  # Aquí pondrías precios reales o simulados\n",
    "    'type': 0 ,  # Suponemos que no es festivo (puedes luego variar esto)\n",
    "    'locale' : locale\n",
    "})\n",
    "\n",
    "# Extraer más info de la fecha si tu modelo lo necesita\n",
    "df_pred['dia'] = df_pred['fecha'].dt.day\n",
    "df_pred['mes'] = df_pred['fecha'].dt.month\n",
    "df_pred['ano'] = df_pred['fecha'].dt.year\n",
    "\n",
    "for col in df_pred.select_dtypes(include='object').columns:\n",
    "    df_pred[col] = encoders[col].transform(df_pred[col].astype(str))\n",
    "\n",
    "# 4️⃣ Predecir\n",
    "features = df_pred.drop(columns=['fecha'])  # Ajusta si tu modelo no usa fecha\n",
    "predicciones = modelo.predict(features)\n",
    "\n",
    "media_mensual = predicciones.mean()\n",
    "print(f\"📦 Stock recomendado promedio para el mes: {media_mensual:.0f} unidades\")\n",
    "\n",
    "\n",
    "\n",
    "\n"
   ]
  },
  {
   "cell_type": "code",
   "execution_count": 15,
   "metadata": {},
   "outputs": [
    {
     "name": "stdout",
     "output_type": "stream",
     "text": [
      "🚩 La tienda con menor volumen estimado es la tienda 1 con 1509 unidades promedio.\n"
     ]
    }
   ],
   "source": [
    "tiendas = [1, 2, 3, 4, 5]  # Lista con IDs de tiendas reales de tu dataset\n",
    "resultados = []\n",
    "\n",
    "for tienda in tiendas:\n",
    "    df_pred['idTienda'] = tienda\n",
    "    pred = modelo.predict(df_pred.drop(columns=['fecha']))\n",
    "    media = pred.mean()\n",
    "    resultados.append((tienda, media))\n",
    "\n",
    "peor_tienda = min(resultados, key=lambda x: x[1])\n",
    "print(f\"🚩 La tienda con menor volumen estimado es la tienda {peor_tienda[0]} con {peor_tienda[1]:.0f} unidades promedio.\")\n"
   ]
  },
  {
   "cell_type": "code",
   "execution_count": 16,
   "metadata": {},
   "outputs": [
    {
     "name": "stdout",
     "output_type": "stream",
     "text": [
      "✅ No hay días críticos según el umbral definido.\n"
     ]
    }
   ],
   "source": [
    "umbral_stock = 1500  # Defínelo según tu contexto\n",
    "df_pred['predicciones'] = modelo.predict(df_pred.drop(columns=['fecha']))\n",
    "\n",
    "riesgo = df_pred[df_pred['predicciones'] < umbral_stock]\n",
    "\n",
    "if not riesgo.empty:\n",
    "    print(\"⚠️ Días con riesgo de bajo stock:\")\n",
    "    print(riesgo[['fecha', 'predicciones']])\n",
    "else:\n",
    "    print(\"✅ No hay días críticos según el umbral definido.\")\n"
   ]
  },
  {
   "cell_type": "code",
   "execution_count": null,
   "metadata": {},
   "outputs": [],
   "source": []
  }
 ],
 "metadata": {
  "kernelspec": {
   "display_name": "venv",
   "language": "python",
   "name": "python3"
  },
  "language_info": {
   "codemirror_mode": {
    "name": "ipython",
    "version": 3
   },
   "file_extension": ".py",
   "mimetype": "text/x-python",
   "name": "python",
   "nbconvert_exporter": "python",
   "pygments_lexer": "ipython3",
   "version": "3.12.3"
  }
 },
 "nbformat": 4,
 "nbformat_minor": 2
}
